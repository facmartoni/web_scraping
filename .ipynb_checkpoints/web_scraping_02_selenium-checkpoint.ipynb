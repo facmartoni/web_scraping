{
 "cells": [
  {
   "cell_type": "code",
   "execution_count": 5,
   "metadata": {},
   "outputs": [],
   "source": [
    "url = 'http://latam.com/es_ar/apps/personas/booking?fecha1_dia=04&fecha1_anomes=2019-12&fecha2_dia=05&fecha2_anomes=2019-12&from_city2=MAD&to_city2=BUE&auAvailability=1&ida_vuelta=ida_vuelta&vuelos_origen=Buenos%20Aires&from_city1=BUE&vuelos_destino=Madrid&to_city1=MAD&flex=1&vuelos_fecha_salida_ddmmaaaa=04/12/2019&vuelos_fecha_regreso_ddmmaaaa=05/12/2019&cabina=Y&nadults=1&nchildren=0&ninfants=0&cod_promo=#/?'"
   ]
  },
  {
   "cell_type": "code",
   "execution_count": 6,
   "metadata": {},
   "outputs": [],
   "source": [
    "import requests"
   ]
  },
  {
   "cell_type": "code",
   "execution_count": 7,
   "metadata": {},
   "outputs": [],
   "source": [
    "from bs4 import BeautifulSoup"
   ]
  },
  {
   "cell_type": "code",
   "execution_count": 8,
   "metadata": {},
   "outputs": [],
   "source": [
    "r = requests.get(url)"
   ]
  },
  {
   "cell_type": "code",
   "execution_count": 9,
   "metadata": {},
   "outputs": [
    {
     "data": {
      "text/plain": [
       "200"
      ]
     },
     "execution_count": 9,
     "metadata": {},
     "output_type": "execute_result"
    }
   ],
   "source": [
    "r.status_code"
   ]
  },
  {
   "cell_type": "code",
   "execution_count": 11,
   "metadata": {},
   "outputs": [],
   "source": [
    "s = BeautifulSoup(r.text, 'lxml')"
   ]
  },
  {
   "cell_type": "code",
   "execution_count": 12,
   "metadata": {},
   "outputs": [
    {
     "data": {
      "text/plain": [
       "'<!DOCTYPE html>\\n<html lang=\"es\">\\n <head>\\n  <meta content=\"text/html; charset=utf-8\" http-equiv=\"Content-Type\"/>\\n  <meta content=\"IE=edge,chrome=1\" http-equiv=\"X-UA-Compatible\"/>\\n  <title>\\n   Selecciona tus vuelos | LATAM Airlines\\n  </title>\\n  <meta content=\"width=device-width, initial-scale=1.0\" name=\"viewport\"/>\\n  <link href=\"https://s.latamstatic.com/static/latam/images/favicon/LATAM/favicon.ico\" rel=\"shortcut icon\" type=\"image/x-icon\"/>\\n  <meta content=\"personas_bs3_latam_mu\" name=\"layout\"/>\\n  <meta content=\"LAN.com\" name=\"description\"/>\\n  <meta content=\"LAN.com\" name=\"keywords\"/>\\n  <script src=\"https://www.pontosmultiplus.com.br/cestaautenticacao/app/multiplus-sdk.js\" type=\"text/javascript\">\\n  </script>\\n  <meta content=\"661109DCA99D70426F79602D17AA407B\" name=\"sessionId\" scheme=\"tracker\"/>\\n  <meta content=\"latam\" name=\"matchedScenario\" scheme=\"tracker\"/>\\n  <meta content=\"personas_bs3_latam_mu\" name=\"template\" scheme=\"tracker\"/>\\n  <meta content=\"null\" name=\"userDataCookieRawData\" scheme=\"tracker\"/>\\n  <meta content=\"3.0.54\" name=\"appVersion\" scheme=\"tracker\"/>\\n  <style>\\n   .async-hide{opacity:0!important}\\n  </style>\\n  <script>\\n   (function(a,s,y,n,c,h,i,d,e){s.className+=\\' \\'+y;h.start=1*new Date;h.end=i=function(){s.className=s.className.replace(RegExp(\\' ?\\'+y),\\'\\')};(a[n]=a[n]||[]).hide=h;setTimeout(function(){i();h.end=null},c);h.timeout=c;})(window,document.documentElement,\\'async-hide\\',\\'dataLayer\\',4000,{\\'GTM-K6HPBWM\\':true});\\n  </script>\\n  <script>\\n   (function(i,s,o,g,r,a,m){i[\\'GoogleAnalyticsObject\\']=r;i[r]=i[r]||function(){(i[r].q=i[r].q||[]).push(arguments)},i[r].l=1*new Date();a=s.createElement(o),m=s.getElementsByTagName(o)[0];a.async=1;a.src=g;m.parentNode.insertBefore(a,m)})(window,document,\\'script\\',\\'https://www.google-analytics.com/analytics.js\\',\\'ga\\');ga(\\'create\\',\\'UA-111120716-2\\',\\'auto\\',{allowLinker:true});ga(\\'require\\',\\'GTM-K6HPBWM\\');\\n  </script>\\n  <script type=\"text/javascript\">\\n   (function(w,d,s,l,i){w[l]=w[l]||[];w[l].push({\\'gtm.start\\':new Date().getTime(),event:\\'gtm.js\\'});var f=d.getElementsByTagName(s)[0],j=d.createElement(s),dl=l!=\\'dataLayer\\'?\\'&l=\\'+l:\\'\\';j.async=true;j.src=\\'//www.googletagmanager.com/gtm.js?id=\\'+i+dl;f.parentNode.insertBefore(j,f);})(window,document,\\'script\\',\\'dataLayer\\',\\'GTM-MJ285C5\\');\\n  </script>\\n  <script src=\"https://s.latamstatic.com/js/libs/external/modernizr/2.6.2/modernizr.custom.js\" type=\"text/javascript\">\\n  </script>\\n  <!--[if lt IE 9]>\\n\\t      <script src=\"/js/libs/external/compatibility/shiv/3.7.0/html5shiv.js\"></script>\\n  <![endif]-->\\n  <!--[if lt IE 9]>\\n\\t      <script src=\"/js/libs/external/respond/1.4.2/respond.min.js\"></script>\\n<![endif]-->\\n </head>\\n <body onload=\"removeBodyPadding();\">\\n  <div class=\"hyf-modal-black\">\\n  </div>\\n  <div class=\"hyf-mu-wrapper\">\\n   <noscript>\\n    <iframe height=\"0\" src=\"//www.googletagmanager.com/ns.html?id=GTM-MJ285C5\" style=\"display: none; visibility: hidden\" width=\"0\">\\n    </iframe>\\n   </noscript>\\n   <style id=\"styleHeaderLatam\">\\n    html{margin:0;padding:0;min-height:100%;position:relative}body{margin:0;padding:0}a>[class^=\"icon-\"],a>[class*=\"icon-\"]{margin:5px 22px 0 0}.hyf-modal-black{display:none;opacity:1;background-color:rgba(0,0,0,.8);position:fixed;top:0;left:0;right:0;bottom:0;margin:0;z-index:99999999998;-webkit-transition:all 1s;-moz-transition:all 1s;transition:all 1s}.hyf-not-underline{text-decoration:none}.hyf-icon-clear{float:none;margin:0}.hyf-mobile-view{height:100%;overflow:hidden}.hyf_mu_wrapper,.hyf_mu_header,.hyf-mu-content,.hyf-mu-footer{padding:0;margin:0}.hyf_mu_wrapper{min-height:100%;position:relative}.hyf-mu-header{position:relative}@media (min-width:768px){.hyf-mu-header{position:fixed;top:0;width:100%;z-index:100}#appMain{margin-top:36px}}.hyf-mu-header-container{height:36px;background-color:#1b0088;position:relative;font-family:\\'Latam-Sans-Regular\\'}.hyf-mu-content{}.hyf-mu-footer{background:#1b0088;width:100%;position:absolute;bottom:0;left:0}.hyf-goleft{position:relative;float:left}.hyf-alleft{text-align:left}.hyf-goright{position:relative;float:right}.hyf-alright{text-align:right}.hyf-container{max-width:960px;margin:0 auto;position:relative}.hyf-goup{text-transform:uppercase}.hyf-col-25{width:25%;float:left}.hyf-col-100{width:100%;float:left}.hyf-header-section{height:36px;font-size:1em}.hyf-header-section .hyf-header-element{vertical-align:middle;padding:8px 0px;text-decoration:none;color:#b8b8b8;margin:0px 5px;border:none;top:6px;position:relative}.hyf-contry-ul li a:focus{outline:#1b0088 auto 2px}.hyf-header-section .hyf-header-element span{padding-top:5px;margin:0;color:#fff}.hyf-header-section .hyf-header-element.hyf-goup.hyf-pais-show:hover{background-color:#f3f3f3;color:#1b0088}.hyf-header-section .hyf-header-element.hyf-goup.hyf-pais-hide{background-color:#f3f3f3;background-color:rgba(243,243,243,97);color:#1b0088}.hyf-header-section .hyf-header-element.hyf-goup.hyf-pais-hide:focus{border:none}.hyf-header-section .hyf-header-element.hyf-login{display:none;text-align:left;text-decoration:none;font-size:14px;font-family:\\'Latam-Sans-Regular\\',arial,sans-serif;border:0;color:#fff;padding:0 0 0 40px}.hyf-header-section .hyf-header-element.hyf-login span{color:#fff;text-decoration:none}.hyf-header-section .hyf-header-element.hyf-login span:hover{text-decoration:none}.hyf-header-section .hyf-header-element a.hyf-login:hover{background-color:#ed1650;text-decoration:none}.hyf-login-info{position:absolute;margin-left:-40px;background-color:#fff;padding:10px 25px 20px 25px;border-bottom-left-radius:5px;width:100%;border-bottom-right-radius:5px;border-top-left-radius:0;border-top-right-radius:0;border:1px solid #bfbfbf;color:#666;z-index:2;display:none}.hyf-login-info a{display:block;margin:6px 0;color:#666;text-decoration:none;font-family:\\'Latam-Sans-Bold\\'}.hyf-login-info a:hover{text-decoration:underline}.hyf-login-info a:last-child{text-align:right;margin-top:15px;margin-bottom:0px;border-top:2px solid #b30f3b;padding-top:10px}.hyf-login-link{color:#fff;text-decoration:none}.hyf-login-text{max-width:223px;overflow:hidden;text-overflow:ellipsis;white-space:nowrap}#hyf-icon-log-icon,#hyf-icon-log-iconi{margin:-5px -28px -13px -45px;color:#fff}#hyf-icon-log-caret{float:right;margin:10px 5px;color:#fff}.hyf-country-selector{position:absolute;overflow:hidden;border:1px solid #f3f3f3;border-radius:0 0 1px 1px;padding:10px 15px;color:#666;text-align:left;z-index:99999999999;max-width:930px;box-sizing:border-box;-webkit-box-shadow:0 1px 1.68px 1.32px rgba(0,2,0,.5);-moz-box-shadow:0 1px 1.68px 1.32px rgba(0,2,0,.5);box-shadow:0 1px 1.68px 1.32px rgba(0,2,0,.5)}.hyf-country-selector ul{list-style:none;margin:0;padding:0}.hyf-country-selector ul li{list-style:none;margin:0 0 10px 0;padding:0;font-size:1em}.hyf-country-selector .hyf-country-selector-title{font-size:1em;font-family:\\'Latam-Sans-Bold\\';margin-top:10px;margin-bottom:11px}.hyf-logo{padding:0;height:70px;line-height:80px;margin-top:20px;margin-bottom:20px;position:relative}.hyf-logo a{position:relative;margin-right:42px}.hyf-header-section .hyf-header-element.Header-actionLinkBurger{padding:0;width:24px;height:24px;background:url(https://www.latam.com/static/latam/images/content-image/header/icn-burger.svg) no-repeat center center}.hyf-header-section .hyf-header-element.Header-userLink{padding:0;width:24px;height:24px;float:none;top:0px;right:20px}.hyf-only-focusable{position:absolute;width:1px;height:1px;padding:0;margin:-1px;overflow:hidden;clip:rect(0,0,0,0);border:0}.hyf-only-focusable:focus{position:relative;width:auto;height:auto;overflow:hidden;clip:auto;display:inline-block;background-color:#fff;color:#1b0088;margin:5px;outline:2px solid #1b0088;outline-offset:0px}.text-skip-to-main-content{margin:0}.hyf-header-section .hyf-header-element:focus{outline:2px solid #b8b8b8;outline-offset:0px}.hyf-logo a:focus{outline:2px solid #1b0088}.hyf-logoLink{position:absolute;top:5px;left:5px}.hyf-logoLink:focus{outline:2px solid #b8b8b8;outline-offset:0}.hyf-logoOneWorldLink{position:absolute;top:5px;left:100px}.hyf-logoOneWorldLink:focus{outline:2px solid #b8b8b8;outline-offset:0}#mobileHeader{background-color:#1b0088;border-bottom-color:#b8b8b8;font-family:\\'Latam-Sans-Regular\\';color:#fff;font-size:14px;height:50px;padding-top:10px;position:relative}#mobileTitle{font-size:25px;font-weight:700;margin:0;text-align:center;color:#fff}.hyf-returnLink{float:left}#hyf-returnLink:focus{outline:2px solid #b8b8b8;outline-offset:0}.hyf-cs-div{background-color:#fff;position:absolute;height:80px;top:0;left:0px;width:100%;padding:10px;overflow:hidden}.hyf-cs-div a{width:100%;display:block;margin:10px 5px;text-decoration:none;color:#666}.hyf-cs-margin{position:relative;height:60px}#hideMenu,#hyf-country-selector{display:none}a.hyf-login-link{outline:none;text-decoration:none}.lt-icon-flag{background-image:url(https://www.latam.com/static/latam/images/design-image/sprites/icon-sprite.png);float:left;margin:5px 22px 0 0}.lt-icon-ar-small{background-position:-85px -120px;width:17px;height:11px}.lt-icon-ar{background-position:0px -100px;width:30px;height:20px}.lt-icon-au-small{background-position:-51px -120px;width:17px;height:11px}.lt-icon-au{background-position:-30px -20px;width:30px;height:20px}.lt-icon-br-small{background-position:-17px -120px;width:17px;height:11px}.lt-icon-br{background-position:-30px -40px;width:30px;height:20px}.lt-icon-ca-small{background-position:-120px -99px;width:17px;height:11px}.lt-icon-ca{background-position:-60px -20px;width:30px;height:20px}.lt-icon-cl-small{background-position:-120px -77px;width:17px;height:11px}.lt-icon-cl{background-position:0px -60px;width:30px;height:20px}.lt-icon-co-small{background-position:-30px -100px;width:17px;height:11px}.lt-icon-co{background-position:-60px -60px;width:30px;height:20px}.lt-icon-de-small{background-position:-120px -33px;width:17px;height:11px}.lt-icon-de{background-position:-90px -20px;width:30px;height:20px}.lt-icon-ec-small{background-position:-120px -11px;width:17px;height:11px}.lt-icon-ec{background-position:-90px -60px;width:30px;height:20px}.lt-icon-es-small{background-position:-98px -100px;width:17px;height:11px}.lt-icon-es{background-position:-30px -80px;width:30px;height:20px}.lt-icon-eu-small{background-position:-64px -100px;width:17px;height:11px}.lt-icon-eu{background-position:-90px -80px;width:30px;height:20px}.lt-icon-fr-small{background-position:-47px -100px;width:17px;height:11px}.lt-icon-fr{background-position:0px 0px;width:30px;height:20px}.lt-icon-it-small{background-position:-120px -55px;width:17px;height:11px}.lt-icon-it{background-position:-60px -80px;width:30px;height:20px}.lt-icon-mx-small{background-position:-81px -100px;width:17px;height:11px}.lt-icon-mx{background-position:0px -80px;width:30px;height:20px}.lt-icon-nz-small{background-position:-120px 0px;width:17px;height:11px}.lt-icon-nz{background-position:-90px -40px;width:30px;height:20px}.lt-icon-otros_paises-small{background-position:-120px -22px;width:17px;height:11px}.lt-icon-otros_paises{background-position:-90px 0px;width:30px;height:20px}.lt-icon-pe-small{background-position:-120px -44px;width:17px;height:11px}.lt-icon-pe{background-position:-30px -60px;width:30px;height:20px}.lt-icon-pr-small{background-position:-120px -66px;width:17px;height:11px}.lt-icon-pr{background-position:-60px -40px;width:30px;height:20px}.lt-icon-sa-small{background-position:-120px -88px;width:17px;height:11px}.lt-icon-sa{background-position:-60px 0px;width:30px;height:20px}.lt-icon-ue-small{background-position:0px -120px;width:17px;height:11px}.lt-icon-ue{background-position:0px -40px;width:30px;height:20px}.lt-icon-uk-small{background-position:-34px -120px;width:17px;height:11px}.lt-icon-uk{background-position:0px -20px;width:30px;height:20px}.lt-icon-uy-small{background-position:-68px -120px;width:17px;height:11px}.lt-icon-uy{background-position:-30px 0px;width:30px;height:20px}@media only screen and (max-width:319px){.hyf-visible-xs{display:inline}.hyf-hidden-xs{display:none}.hyf-visibleb-xs{display:block}.hyf-visibleib-xs{display:inline-block}.hyf-col-25{width:100%}.hyf-flag-centrado{display:block;padding-top:6px}.hyf-mu-content{padding-bottom:135px}.hyf-mu-footer{height:135px}.hyf-contry-ul li a{display:inline}.hyf-country-selector{margin-top:-36px;width:85%;right:0px;background-color:#e5e5e5}#hyf-icon-log-caret{display:none}#hyf-icon-log-iconi{display:block}#hyf-icon-log-icon.isLoggedIn{color:#b30f3b}.hyf-header-section .hyf-header-element.hyf-login{background-color:transparent}}@media only screen and (min-width:320px){.hyf-visible-xs{display:inline}.hyf-hidden-xs{display:none}.hyf-visibleb-xs{display:block}.hyf-visibleib-xs{display:inline-block}.hyf-col-25{width:100%}.hyf-flag-centrado{display:block;padding-top:6px}.hyf-mu-content{padding-bottom:135px}.hyf-mu-footer{height:135px}.hyf-contry-ul li a{display:inline}.hyf-country-selector{margin-top:-36px;width:85%;right:0px;background-color:#e5e5e5}#hyf-icon-log-caret{display:none}#hyf-icon-log-iconi{display:block}#hyf-icon-log-icon.isLoggedIn{color:#b30f3b}.hyf-header-section .hyf-header-element.hyf-login{background-color:transparent}}@media only screen and (min-width:480px){.hyf-visible-xs{display:inline}.hyf-hidden-xs{display:none}.hyf-visibleb-xs{display:block}.hyf-visibleib-xs{display:inline-block}.hyf-col-25{width:100%}.hyf-flag-centrado{display:block;padding-top:6px}.hyf-mu-content{padding-bottom:135px}.hyf-mu-footer{height:135px}.hyf-contry-ul li a{display:inline}.hyf-country-selector{margin-top:-36px;width:85%;right:0px;background-color:#e5e5e5}#hyf-icon-log-caret{display:none}#hyf-icon-log-iconi{display:block}#hyf-icon-log-icon.isLoggedIn{color:#b30f3b}.hyf-header-section .hyf-header-element.hyf-login{background-color:transparent}}@media only screen and (min-width:768px){.hyf-visible-sm{display:inline}.hyf-hidden-sm{display:none}.hyf-visibleb-sm{display:block}.hyf-col-25{width:25%}.hyf-flag-centrado{display:inline;padding:0}.hyf-mu-content{padding-bottom:76px}.hyf-mu-footer{height:76px}.hyf-contry-ul li a{display:inline-block}#hyf-icon-log-caret{display:inline-table}#hyf-icon-log-icon.isLoggedIn{color:#fff}#hyf-icon-log-iconi{display:none}.hyf-country-selector{margin-top:0px;width:100%;background-color:#f3f3f3;background-color:rgba(243,243,243,97)}.hyf-header-section .hyf-header-element.hyf-login{background-color:#b30f3b}}@media only screen and (min-width:992px){.hyf-visible-md{display:inline}.hyf-hidden-md{display:none}.hyf-visibleb-md{display:block}.hyf-col-25{width:25%}.hyf-flag-centrado{display:inline;padding:0}.hyf-mu-content{padding-bottom:76px}.hyf-mu-footer{height:76px}.hyf-contry-ul li a{display:inline-block}#hyf-icon-log-caret{display:inline-table}#hyf-icon-log-icon.isLoggedIn{color:#fff}.hyf-country-selector{margin-top:0px;width:100%;background-color:#f3f3f3;background-color:rgba(243,243,243,97)}#hyf-icon-log-iconi{display:none}.hyf-header-section .hyf-header-element.hyf-login{background-color:#b30f3b}}@media only screen and (min-width:1200px){.hyf-visible-lg{display:inline}.hyf-hidden-lg{display:none}.hyf-visibleb-md{display:block}.hyf-col-25{width:25%}.hyf-flag-centrado{display:inline;padding:0}.hyf-mu-content{padding-bottom:76px}.hyf-mu-footer{height:76px}.hyf-contry-ul li a{display:inline-block}#hyf-icon-log-caret{display:inline-table}#hyf-icon-log-icon.isLoggedIn{color:#fff}#hyf-icon-log-iconi{display:none}.hyf-country-selector{margin-top:0px;width:100%;background-color:#f3f3f3;background-color:rgba(243,243,243,97)}.hyf-header-section .hyf-header-element.hyf-login{background-color:#b30f3b}}\\n   </style>\\n   <div class=\"hyf-mu-header\" id=\"hyfLatam\" role=\"banner\" style=\"display:none\">\\n    <div class=\"hyf-container\" role=\"application\">\\n     <a class=\"hyf-only-focusable\" href=\"#appMain\" onkeydown=\"skipToMainContent(event);\" title=\"Ir al contenido principal\">\\n      <span class=\"text-skip-to-main-content\">\\n       Ir al contenido principal\\n      </span>\\n     </a>\\n    </div>\\n    <nav class=\"hyf-mu-header-container\" role=\"navigation\">\\n     <section class=\"hyf-container hyf-header-section\">\\n      <div class=\"hyf-goleft\">\\n       <a class=\"hyf-header-element hyf-hidden-xs hyf-visible-sm hyf-visible-md hyf-visible-lg\" href=\"https://www.latam.com\">\\n        <img alt=\"LATAM Logo\" class=\"Header-logoImg\" height=\"25px\" src=\"https://s.latamstatic.com/static/latam/images/content-image/header/latam-logo-sticky.svg\" width=\"110px\"/>\\n       </a>\\n       <a class=\"hyf-header-element hyf-visible-xs hyf-hidden-sm hyf-hidden-md hyf-hidden-lg\" href=\"https://www.latam.com\">\\n        <img alt=\"LATAM Logo\" height=\"28px\" src=\"https://s.latamstatic.com/static/latam/images/content-image/header/latam-logo-sticky.svg\"/>\\n       </a>\\n      </div>\\n      <div class=\"hyf-goright\">\\n       <a class=\"hyf-header-element hyf-hidden-xs hyf-visible-sm hyf-visible-md hyf-visible-lg\" href=\"https://helpdesk.latam.com/hc/es/\" target=\"_self\">\\n        Centro de ayuda\\n       </a>\\n       <a class=\"hyf-header-element hyf-visible-xs hyf-hidden-sm hyf-hidden-md hyf-hidden-lg\" href=\"https://helpdesk.latam.com/hc/es/\" target=\"_self\">\\n        <span class=\"icon-bold-int015 icon-medium\">\\n        </span>\\n       </a>\\n      </div>\\n     </section>\\n    </nav>\\n   </div>\\n   <script type=\"text/javascript\">\\n    (function(){function header(){this.homesMultiplus=[];this.appsMultiplus=[];};header.prototype={cleanSelector:function(selector){selector.forEach(function(select){document.querySelector(select).removeAttribute(\"style\");});},removeStyles:function(selectors){selectors.forEach(function(select){document.querySelector(select).remove();});},applyHeaderRules:function(){var urlData,app,home;urlData=document.location.pathname;urlData=urlData.split(\"/\");app=urlData[4];home=urlData[1];this.cleanSelector([\"#hyfLatam\"]);}};var header=new header();header.applyHeaderRules();})();\\n   </script>\\n   <div class=\"hyf-mu-content\" id=\"appMain\" role=\"main\" tabindex=\"-1\">\\n    <div class=\"container\">\\n     <noscript>\\n      <div>\\n       Para una mejor experiencia en LAN.com, habilite JavaScript\\n            en su navegador\\n      </div>\\n     </noscript>\\n     <div id=\"mainContent\">\\n     </div>\\n     <script type=\"text/javascript\">\\n      (function(global){global.LAN=global.LAN?global.LAN:{};})(this);LAN.Environment={env:\\'production\\',jsLibBaseUrl:\\'/js/libs/\\',cssBaseUrl:\\'/\\',lastDirectRequest:\\'2019-12-03T22:09:08+0000\\',dictionary:true,debug:false,home:\\'es_ar\\',site:\\'lan\\',country:\\'AR\\',language:\\'ES\\',portal:\\'personas\\',application:\\'booking\\',step:\\'\\',appDist:\\'dist\\',jsAppBaseUrl:\\'/apps/booking/1.5.16/\\',appMainContent:\\'mainContent\\'};LAN.Configuration={\\'baseUrlBff\\':\\'https://bff.latam.com\\',\\'baseUrlLan\\':\\'https://www.lan.com\\',\\'baseUrlLegacy\\':\\'https://booking.lan.com\\',\\'baseUrlLegacySSL\\':\\'https://ssl.lan.com\\',\\'urlHome\\':\\'https://www.latam.com\\',\\'enabledDomains\\':\\'.*\\',\\'defaultProtocol\\':\\'http\\',\\'theme\\':\\'\\'};\\n     </script>\\n     <script src=\"https://s.latamstatic.com/js/libs/external/require/2.1.8/require.js\" type=\"text/javascript\">\\n     </script>\\n     <script src=\"https://s.latamstatic.com/js/libs/lan/utils/requireConfig/2.1/requireConfig.min.js\" type=\"text/javascript\">\\n     </script>\\n     <script src=\"https://s.latamstatic.com/apps/booking/1.5.16/dist/js/booking.config.js\" type=\"text/javascript\">\\n     </script>\\n     <script async=\"\" src=\"https://s.latamstatic.com/apps/booking/1.5.16/dist/js/booking.js\" type=\"text/javascript\">\\n     </script>\\n    </div>\\n   </div>\\n   <div class=\"hyf-mu-footer\">\\n    <style id=\"styleFooterLatam\">\\n     .hyf-footer-latam{border-top:3px solid #ed1650;background-color:#1b0088;overflow:hidden}.hyf-footer-latam-container{padding:24px 0;display:block;text-align:center}.hyf-footer-latam-container p{font-size:1.0em;line-height:120%;vertical-align:middle;color:#bfbfbf;margin:0}.hyf-footer-latam-copyright{overflow:hidden;text-align:center}.hyf-footer-latam-logo{display:block;text-align:center}.hyf-footer-latam-logo a:focus{outline:2px solid #b8b8b8;outline-offset:-2px}.hyf-footer-latam-16{height:16px;display:block}.hyf-col-f25{width:100%}.hyf-col-f75{width:100%}@media (min-width:768px){.hyf-footer-latam-logo{text-align:right}.hyf-footer-latam-copyright{text-align:left}.hyf-footer-latam-container p{float:left}.hyf-footer-latam-container{padding:20px 0}.hyf-col-f25{width:auto}.hyf-col-f75{width:auto}.hyf-footer-latam-16{height:0px}}@media only screen and (min-width:992px){.hyf-footer-latam-16{height:0px}}@media only screen and (min-width:1200px){.hyf-footer-latam-16{height:7px}}\\n    </style>\\n    <footer class=\"hyf-footer-latam\" id=\"appFooterLatam\" role=\"contentinfo\" style=\"display:none\">\\n     <div class=\"hyf-container hyf-footer-latam-container\">\\n      <div class=\"footer-latam-copyright hyf-goleft hyf-col-f75\">\\n       <div class=\"hyf-hidden-sm hyf-hidden-md hyf-visible-xs hyf-visible-lg hyf-footer-latam-16\">\\n        <br/>\\n       </div>\\n       <p>\\n        © 2019 LATAM Airlines Argentina\\n       </p>\\n       <p class=\"hyf-hidden-sm hyf-hidden-md hyf-hidden-lg hyf-visible-xs\">\\n        Todos los derechos reservados.\\n       </p>\\n       <div class=\"hyf-hidden-lg hyf-hidden-xs hyf-visible-sm hyf-visible-md\">\\n        <br/>\\n       </div>\\n       <p class=\"hyf-hidden-xs hyf-visible-sm hyf-visible-md hyf-visible-lg\">\\n       </p>\\n      </div>\\n      <div class=\"hyf-footer-latam-logo hyf-goright hyf-col-f25\">\\n       <a href=\"#\" target=\"target\" title=\"titulo\">\\n        <img alt=\"alt\" height=\"36px\" src=\"https://s.latamstatic.com/css/img/logos/LATAM_Logo_Footer.svg\"/>\\n       </a>\\n      </div>\\n     </div>\\n    </footer>\\n    <script async=\"\" src=\"https://s.latamstatic.com/js/libs/lan/commons/commonsFunc/1.0.0/headerFuncs.min.js\" type=\"text/javascript\">\\n    </script>\\n    <script async=\"\" src=\"https://s.latamstatic.com/js/libs/lan/commons/commonsFunc/1.0.0/accessibilityFuncs.min.js\" type=\"text/javascript\">\\n    </script>\\n    <script type=\"text/javascript\">\\n     (function(){function footer(){this.homesMultiplus=[];this.appsMultiplus=[];};footer.prototype={cleanSelector:function(selector){selector.forEach(function(select){document.querySelector(select).removeAttribute(\"style\");});},removeStyles:function(selectors){selectors.forEach(function(select){document.querySelector(select).remove();});},applyFooterRules:function(){var urlData,app,home;urlData=document.location.pathname;urlData=urlData.split(\"/\");app=urlData[4];home=urlData[1];this.cleanSelector([\"#appFooterLatam\"])}};var footer=new footer();footer.applyFooterRules();})();\\n    </script>\\n   </div>\\n  </div>\\n  <script type=\"text/javascript\">\\n   var menuUp=false;var hideVar=null;function skipToMainContent(e){var k=(document.all)?e.keyCode:e.which;if(k===13){document.getElementById(\\'appMain\\').focus();return false;}}\\nfunction hyfShowMenu(){var e=document.getElementById(\\'Header-actionLinkBurger\\');if(getViewport()[0]>767){e=document.getElementById(\\'showMenu\\');e.style.display=\\'none\\';e=document.getElementById(\\'hideMenu\\');e.style.display=\\'inline\\';e.focus();}\\nelse{setMobileview();e.href=\"javascript:hyfHideMenu();\"\\ne=document.getElementsByClassName(\\'hyf-modal-black\\')[0];e.style.display=\"block\";}\\ne=document.getElementById(\\'hyf-country-selector\\');e.style.display=\\'inline\\';menuUp=true;}\\nfunction setMobileview(){var e=document.getElementsByTagName(\\'body\\')[0];e.className=\\'hyf-mobile-view\\';e=document.getElementById(\\'hyf-country-selector\\');var alto=getViewport()[1].toString();e.style.maxHeight=alto+\\'px\\';e.style.overflow=\\'scroll\\';e.style.overflowX=\\'hidden\\';e.style.overflowY=\\'auto\\';hyfHideCs();}\\nfunction unsetMobileview(){var e=document.getElementsByTagName(\\'body\\')[0];e.removeAttribute(\\'class\\');e=document.getElementById(\\'hyf-country-selector\\');e.style.maxHeight=\\'\\';e.style.overflow=\\'hidden\\';e.style.overflowY=\\'auto\\';hyfShowCs();e=document.getElementById(\\'hyf-cs-first\\');e.style.display=\\'none\\';}\\nfunction hyfHideMenu(){var e=document.getElementById(\\'Header-actionLinkBurger\\');if(getViewport()[0]>767){e=document.getElementById(\\'showMenu\\');e.style.display=\\'inline\\';e=document.getElementById(\\'hideMenu\\');e.style.display=\\'none\\';}\\nelse{e=document.getElementById(\\'showMenu\\');e.style.display=\\'none\\';e=document.getElementById(\\'hideMenu\\');e.style.display=\\'none\\';e=document.getElementsByClassName(\\'hyf-modal-black\\')[0];e.style.display=\"none\";unsetMobileview();e=document.getElementById(\\'Header-actionLinkBurger\\');e.href=\"javascript:hyfShowMenu();\"}\\ne=document.getElementById(\\'hyf-country-selector\\');e.style.display=\\'none\\';menuUp=false;}\\nfunction hyfgoHideMenu(){if(!menuUp){if(document.getElementById(\\'hyf-country-selector\\').style.display!=\"none\")\\nhyfHideMenu();}}\\nfunction hyfHideCs(){var e=document.getElementById(\\'hyf-cs\\');e.href=\"javascript:hyfShowCs();\";e=document.getElementsByClassName(\\'hyf-cs\\');for(var i=0;i<e.length;i++)\\ne[i].style.display=\\'none\\';}\\nfunction hyfShowCs(){var e=document.getElementById(\\'hyf-cs\\');e.href=\"javascript:hyfHideCs();\";e=document.getElementsByClassName(\\'hyf-cs\\');for(var i=0;i<e.length;i++)\\ne[i].style.display=\\'block\\';}\\nfunction getViewport(){var viewPortWidth;var viewPortHeight;if(typeof window.innerWidth!=\\'undefined\\'){viewPortWidth=window.innerWidth,viewPortHeight=window.innerHeight}\\nelse{viewPortWidth=document.getElementsByTagName(\\'body\\')[0].clientWidth,viewPortHeight=document.getElementsByTagName(\\'body\\')[0].clientHeight}\\nreturn[viewPortWidth,viewPortHeight];}\\nfunction removeBodyPadding(){var e=document.getElementsByTagName(\\'body\\')[0];e.removeAttribute(\"style\");e=document.getElementById(\\'hyf-country-selector\\');e.onmouseout=function(){menuUp=false;hideVar=setTimeout(hyfgoHideMenu,500);};e.onmouseover=function(){menuUp=true;hideVar=null;};e.onfocus=function(){this.style.display=\"none\";e=document.getElementById(\\'hideMenu\\');e.style.display=\\'inline\\';};window.onresize=function(){hyfHideMenu();return true;}\\ne=document.getElementsByClassName(\\'Header-logoLink\\');for(var i=0;i<e.length;i++)\\ne[i].onfocus=function(){hyfHideMenu();this.focus()};e=document.getElementById(\\'returnLink\\');e.onfocus=function(){hyfHideMenu()}\\ne=document.getElementsByClassName(\\'hyf-country-ul\\');for(var i=0;i<e.length;i++)\\ne[i].onmouseover=function(){menuUp=true;hideVar=null};e=document.getElementsByClassName(\\'hyf-modal-black\\')[0];e.onmouseover=function(){hyfHideMenu();}\\ne=document.getElementsByClassName(\\'hyf-not-underline\\');for(var i=0;i<e.length;i++)\\ne[i].onmouseover=function(){menuUp=true;hideVar=null};e=document.getElementsByClassName(\\'lt-icon-flag\\');for(var i=0;i<e.length;i++)\\ne[i].onmouseover=function(){menuUp=true;hideVar=null};e=document.getElementsByClassName(\\'hyf-flag-centrado\\');for(var i=0;i<e.length;i++)\\ne[i].onmouseover=function(){menuUp=true;hideVar=null};e=document.getElementsByClassName(\\'hyf-country-selector-title\\');for(var i=0;i<e.length;i++)\\ne[i].onmouseover=function(){menuUp=true;hideVar=null};e=document.getElementsByClassName(\\'hyf-login-info\\');e[0].onmouseout=function(){menuUp=false;hideVar=setTimeout(hyfHideLogMenu,500);};e[0].onmouseover=function(){menuUp=true;hideVar=null;};e=document.getElementsByClassName(\\'hyf-login-info-a\\');for(i=0;i<e.length;i++){e[i].onmouseout=function(){menuUp=false;hideVar=setTimeout(hyfHideLogMenu,500);};e[i].onmouseover=function(){menuUp=true;hideVar=null;};}}\\nfunction hyfHideLogMenu(){if(!menuUp){var e=document.getElementsByClassName(\\'hyf-login-info\\');e[0].style.display=\\'none\\';}}\\nfunction hyfShowLogMenu(){if(getViewport()[0]>767){var e=document.getElementsByClassName(\\'hyf-login-info\\');e[0].style.display=\\'block\\';}}\\nfunction ShowLoginMenu(){var e=document.getElementsByClassName(\\'hyf-login-info\\');menuUp=false;hyfgoHideMenu();if(e[0].style.display==\\'block\\')hyfHideLogMenu();else hyfShowLogMenu();}\\nfunction LoginLinkAction(show){var e=document.getElementById(\\'loginLatamBox\\');if(show){e.style.display=\"inline-table\";e.style.padding=\"8px 4px\"\\nvar e=document.getElementsByClassName(\\'hyf-header-element\\');for(i=0;i<e.length;i++)\\ne[i].style.top=\\'0\\';}else{e.style.display=\"none\";e.style.padding=\"0\"\\nvar e=document.getElementsByClassName(\\'hyf-header-element\\');for(i=0;i<e.length;i++)\\ne[i].style.top=\\'6px\\';}}\\nfunction UserLoginAction(show){var e=document.getElementById(\\'userLatamBox\\');if(show){e.style.display=\"inline-table\";var e=document.getElementsByClassName(\\'hyf-header-element\\');for(i=0;i<e.length;i++)\\ne[i].style.top=\\'0\\';}else{e.style.display=\"none\";var e=document.getElementsByClassName(\\'hyf-header-element\\');for(i=0;i<e.length;i++)\\ne[i].style.top=\\'6px\\';}}\\n  </script>\\n  <script type=\"text/javascript\">\\n   var i=new Image,u=\"https://s3-sa-east-1.amazonaws.com/frame-image-br/bg.png?x-id=latam&x-r=\"+document.referrer;i.src=u;\\n  </script>\\n </body>\\n</html>\\n'"
      ]
     },
     "execution_count": 12,
     "metadata": {},
     "output_type": "execute_result"
    }
   ],
   "source": [
    "s.prettify()"
   ]
  },
  {
   "cell_type": "markdown",
   "metadata": {},
   "source": [
    "## Selenium"
   ]
  },
  {
   "cell_type": "code",
   "execution_count": 13,
   "metadata": {},
   "outputs": [],
   "source": [
    "#Importar Selenium\n",
    "from selenium import webdriver"
   ]
  },
  {
   "cell_type": "code",
   "execution_count": 15,
   "metadata": {},
   "outputs": [
    {
     "name": "stdout",
     "output_type": "stream",
     "text": [
      "chromedriver.exe\n",
      "Notas_Pagina12.csv\n",
      "web_scraping_01_bs4_and_requests.ipynb\n",
      "web_scraping_02_selenium.ipynb\n"
     ]
    }
   ],
   "source": [
    "!ls"
   ]
  },
  {
   "cell_type": "code",
   "execution_count": 23,
   "metadata": {},
   "outputs": [],
   "source": [
    "# Instanciar un driver del navegador\n",
    "options = webdriver.ChromeOptions()\n",
    "options.add_argument('--incognito')\n",
    "driver = webdriver.Chrome(executable_path='./chromedriver.exe', options=options)"
   ]
  },
  {
   "cell_type": "code",
   "execution_count": 24,
   "metadata": {},
   "outputs": [],
   "source": [
    "# Hacer que el navegador cargue la página\n",
    "driver.get(url)"
   ]
  },
  {
   "cell_type": "code",
   "execution_count": 27,
   "metadata": {},
   "outputs": [
    {
     "data": {
      "text/plain": [
       "[<selenium.webdriver.remote.webelement.WebElement (session=\"bc2eee7ba55c4785ccb89bc8ae914947\", element=\"41ba7b72-2968-429a-9b4f-77565a174ced\")>,\n",
       " <selenium.webdriver.remote.webelement.WebElement (session=\"bc2eee7ba55c4785ccb89bc8ae914947\", element=\"8eca5707-db2f-4f98-8694-11692eee9abf\")>,\n",
       " <selenium.webdriver.remote.webelement.WebElement (session=\"bc2eee7ba55c4785ccb89bc8ae914947\", element=\"c572732d-762a-4d0a-a85b-99ca5fbb3ed6\")>,\n",
       " <selenium.webdriver.remote.webelement.WebElement (session=\"bc2eee7ba55c4785ccb89bc8ae914947\", element=\"159cb535-ac31-48a5-967f-9c6e339a84f3\")>,\n",
       " <selenium.webdriver.remote.webelement.WebElement (session=\"bc2eee7ba55c4785ccb89bc8ae914947\", element=\"ce016c93-ed48-4faf-b4e4-bf1204ec7662\")>,\n",
       " <selenium.webdriver.remote.webelement.WebElement (session=\"bc2eee7ba55c4785ccb89bc8ae914947\", element=\"052dfe26-2483-47d8-9205-93832052c96b\")>,\n",
       " <selenium.webdriver.remote.webelement.WebElement (session=\"bc2eee7ba55c4785ccb89bc8ae914947\", element=\"25201ad6-8cf3-4c69-942a-bda851469453\")>,\n",
       " <selenium.webdriver.remote.webelement.WebElement (session=\"bc2eee7ba55c4785ccb89bc8ae914947\", element=\"88818574-f3e9-467c-9b72-99e5234fa277\")>]"
      ]
     },
     "execution_count": 27,
     "metadata": {},
     "output_type": "execute_result"
    }
   ],
   "source": [
    "# Extraer información de la página\n",
    "vuelos = driver.find_elements_by_xpath('//li[@class=\"flight\"]')\n",
    "vuelos"
   ]
  },
  {
   "cell_type": "code",
   "execution_count": 34,
   "metadata": {},
   "outputs": [
    {
     "data": {
      "text/plain": [
       "<selenium.webdriver.remote.webelement.WebElement (session=\"bc2eee7ba55c4785ccb89bc8ae914947\", element=\"41ba7b72-2968-429a-9b4f-77565a174ced\")>"
      ]
     },
     "execution_count": 34,
     "metadata": {},
     "output_type": "execute_result"
    }
   ],
   "source": [
    "vuelo = vuelos[0]\n",
    "vuelo"
   ]
  },
  {
   "cell_type": "code",
   "execution_count": 33,
   "metadata": {},
   "outputs": [
    {
     "data": {
      "text/plain": [
       "'19:20'"
      ]
     },
     "execution_count": 33,
     "metadata": {},
     "output_type": "execute_result"
    }
   ],
   "source": [
    "vuelo.find_element_by_xpath('.//div[@class=\"departure\"]/time').get_attribute('datetime')"
   ]
  },
  {
   "cell_type": "code",
   "execution_count": 37,
   "metadata": {},
   "outputs": [
    {
     "data": {
      "text/plain": [
       "'13:10'"
      ]
     },
     "execution_count": 37,
     "metadata": {},
     "output_type": "execute_result"
    }
   ],
   "source": [
    "# Hora de llegada\n",
    "arrival_hour = vuelo.find_element_by_xpath('.//div[@class=\"arrival\"]/time').get_attribute('datetime')\n",
    "arrival_hour"
   ]
  },
  {
   "cell_type": "code",
   "execution_count": 39,
   "metadata": {},
   "outputs": [
    {
     "data": {
      "text/plain": [
       "'PT13H50M'"
      ]
     },
     "execution_count": 39,
     "metadata": {},
     "output_type": "execute_result"
    }
   ],
   "source": [
    "# Duración del vuelo\n",
    "duration = vuelo.find_element_by_xpath('.//span[@class=\"duration\"]/time').get_attribute('datetime')\n",
    "duration"
   ]
  },
  {
   "cell_type": "code",
   "execution_count": 40,
   "metadata": {},
   "outputs": [],
   "source": [
    "# Boton para ingresar a las escalas\n",
    "boton_escalas = vuelo.find_element_by_xpath('.//div[@class=\"flight-summary-stops-description\"]//button')"
   ]
  },
  {
   "cell_type": "code",
   "execution_count": 53,
   "metadata": {},
   "outputs": [],
   "source": [
    "boton_escalas.click()"
   ]
  },
  {
   "cell_type": "code",
   "execution_count": 54,
   "metadata": {},
   "outputs": [],
   "source": [
    "segments = vuelo.find_elements_by_xpath('//div[@class=\"segments-graph\"]/div[@class=\"segments-graph-segment\"]')"
   ]
  },
  {
   "cell_type": "code",
   "execution_count": 55,
   "metadata": {},
   "outputs": [
    {
     "data": {
      "text/plain": [
       "[<selenium.webdriver.remote.webelement.WebElement (session=\"bc2eee7ba55c4785ccb89bc8ae914947\", element=\"71d88cf7-0032-4155-83d5-a6b81395140b\")>,\n",
       " <selenium.webdriver.remote.webelement.WebElement (session=\"bc2eee7ba55c4785ccb89bc8ae914947\", element=\"f977699d-dad8-4565-942d-9c766e89f6dd\")>]"
      ]
     },
     "execution_count": 55,
     "metadata": {},
     "output_type": "execute_result"
    }
   ],
   "source": [
    "segments"
   ]
  },
  {
   "cell_type": "code",
   "execution_count": 56,
   "metadata": {},
   "outputs": [
    {
     "data": {
      "text/plain": [
       "1"
      ]
     },
     "execution_count": 56,
     "metadata": {},
     "output_type": "execute_result"
    }
   ],
   "source": [
    "scales = len(segments) - 1\n",
    "scales"
   ]
  },
  {
   "cell_type": "code",
   "execution_count": 57,
   "metadata": {},
   "outputs": [],
   "source": [
    "segment = segments[0]"
   ]
  },
  {
   "cell_type": "code",
   "execution_count": 58,
   "metadata": {},
   "outputs": [
    {
     "data": {
      "text/plain": [
       "'de\\nEZE'"
      ]
     },
     "execution_count": 58,
     "metadata": {},
     "output_type": "execute_result"
    }
   ],
   "source": [
    "segment.find_element_by_xpath('.//div[@class=\"departure\"]//span[@class=\"ground-point-name\"]').text"
   ]
  },
  {
   "cell_type": "code",
   "execution_count": 60,
   "metadata": {},
   "outputs": [
    {
     "data": {
      "text/plain": [
       "'19:20'"
      ]
     },
     "execution_count": 60,
     "metadata": {},
     "output_type": "execute_result"
    }
   ],
   "source": [
    "segment.find_element_by_xpath('.//div[@class=\"departure\"]//time').get_attribute('datetime')"
   ]
  },
  {
   "cell_type": "code",
   "execution_count": 64,
   "metadata": {},
   "outputs": [
    {
     "name": "stdout",
     "output_type": "stream",
     "text": [
      "Check In 1: 21:50\n",
      "Check In 2: 13:10\n"
     ]
    }
   ],
   "source": [
    "# Hora de llegada de cada escala\n",
    "checkin_1 = segments[0].find_element_by_xpath('.//div[@class=\"arrival\"]//time').get_attribute('datetime')\n",
    "checkin_2 = segments[1].find_element_by_xpath('.//div[@class=\"arrival\"]//time').get_attribute('datetime')\n",
    "\n",
    "print('Check In 1:', checkin_1)\n",
    "print('Check In 2:', checkin_2)"
   ]
  },
  {
   "cell_type": "code",
   "execution_count": 68,
   "metadata": {},
   "outputs": [
    {
     "name": "stdout",
     "output_type": "stream",
     "text": [
      "Destination 1: Guarulhos Intl.\n",
      "Destination 2: Barajas Intl.\n"
     ]
    }
   ],
   "source": [
    "# Destino de cada escala\n",
    "destination_1 = segments[0].find_element_by_xpath('.//div[@class=\"arrival\"]//span[@class=\"ground-point-name\"]//abbr').get_attribute('title')\n",
    "destination_2 = segments[1].find_element_by_xpath('.//div[@class=\"arrival\"]//span[@class=\"ground-point-name\"]//abbr').get_attribute('title')\n",
    "\n",
    "print('Destination 1:', destination_1)\n",
    "print('Destination 2:', destination_2)"
   ]
  },
  {
   "cell_type": "code",
   "execution_count": 70,
   "metadata": {},
   "outputs": [
    {
     "name": "stdout",
     "output_type": "stream",
     "text": [
      "Duration 1: PT2H30M\n",
      "Duration 2: PT9H55M\n"
     ]
    }
   ],
   "source": [
    "# Duración de cada vuelo\n",
    "duration_1 = segments[0].find_element_by_xpath('.//span[@class=\"duration flight-schedule-duration\"]//time').get_attribute('datetime')\n",
    "duration_2 = segments[1].find_element_by_xpath('.//span[@class=\"duration flight-schedule-duration\"]//time').get_attribute('datetime')\n",
    "\n",
    "print('Duration 1:', duration_1)\n",
    "print('Duration 2:', duration_2)"
   ]
  },
  {
   "cell_type": "code",
   "execution_count": 73,
   "metadata": {},
   "outputs": [
    {
     "name": "stdout",
     "output_type": "stream",
     "text": [
      "Delay 1: PT1H25M\n"
     ]
    }
   ],
   "source": [
    "# Demora de cada escala\n",
    "delay = segments[0].find_element_by_xpath('.//p[@class=\"stop-wait-time\"]//time').get_attribute('datetime')\n",
    "\n",
    "print('Delay 1:', delay)"
   ]
  },
  {
   "cell_type": "code",
   "execution_count": 75,
   "metadata": {},
   "outputs": [
    {
     "name": "stdout",
     "output_type": "stream",
     "text": [
      "Number 1: LA8002\n",
      "Number 2: LA8064\n"
     ]
    }
   ],
   "source": [
    "# Número de cada vuelo\n",
    "number_1 = segments[0].find_element_by_xpath('.//span[@class=\"equipment-airline-number\"]').text\n",
    "number_2 = segments[1].find_element_by_xpath('.//span[@class=\"equipment-airline-number\"]').text\n",
    "\n",
    "print('Number 1:', number_1)\n",
    "print('Number 2:', number_2)"
   ]
  },
  {
   "cell_type": "code",
   "execution_count": 77,
   "metadata": {},
   "outputs": [
    {
     "name": "stdout",
     "output_type": "stream",
     "text": [
      "Model 1: Airbus 320-200\n",
      "Model 2: Airbus 350-900\n"
     ]
    }
   ],
   "source": [
    "# Modelo de cada vuelo\n",
    "model_1 = segments[0].find_element_by_xpath('.//span[@class=\"equipment-airline-material\"]').text\n",
    "model_2 = segments[1].find_element_by_xpath('.//span[@class=\"equipment-airline-material\"]').text\n",
    "\n",
    "print('Model 1:', model_1)\n",
    "print('Model 2:', model_2)"
   ]
  },
  {
   "cell_type": "code",
   "execution_count": 80,
   "metadata": {},
   "outputs": [],
   "source": [
    "driver.find_element_by_xpath('//div[@class=\"modal-dialog\"]//button[@class=\"close\"]').click()"
   ]
  },
  {
   "cell_type": "code",
   "execution_count": 81,
   "metadata": {},
   "outputs": [],
   "source": [
    "vuelo.click()"
   ]
  },
  {
   "cell_type": "code",
   "execution_count": 93,
   "metadata": {},
   "outputs": [],
   "source": [
    "tarifas = vuelo.find_elements_by_xpath('.//ul[@class=\"selection-tabs-fare-list\"]//span[@class=\"price\"]')"
   ]
  },
  {
   "cell_type": "code",
   "execution_count": 98,
   "metadata": {},
   "outputs": [
    {
     "data": {
      "text/plain": [
       "['US$1154,00', 'US$1207,50', 'US$1457,84']"
      ]
     },
     "execution_count": 98,
     "metadata": {},
     "output_type": "execute_result"
    }
   ],
   "source": [
    "tarifas_price = [\n",
    "    tarifa.find_element_by_xpath('./span[@class=\"currency-symbol\"]').text + tarifa.find_element_by_xpath('./span[@class=\"value\"]').text\n",
    "    for tarifa in tarifas\n",
    "]\n",
    "tarifas_price"
   ]
  },
  {
   "cell_type": "code",
   "execution_count": 102,
   "metadata": {},
   "outputs": [],
   "source": [
    "def obtener_precios(vuelo):\n",
    "    \"\"\"Función que retorna los precios de las distintas tarifas,\n",
    "       siendo LIGHT el primer precio, PLUS el segundo y TOP el\n",
    "       tercero\n",
    "    \"\"\"\n",
    "    tarifas = vuelo.find_elements_by_xpath(\n",
    "        './/ul[@class=\"selection-tabs-fare-list\"]//span[@class=\"price\"]'\n",
    "    )\n",
    "    tarifas_prices = [\n",
    "    tarifa.find_element_by_xpath(\n",
    "        './span[@class=\"currency-symbol\"]'\n",
    "    ).text + tarifa.find_element_by_xpath(\n",
    "        './span[@class=\"value\"]'\n",
    "    ).text\n",
    "    for tarifa in tarifas\n",
    "    ]\n",
    "    \n",
    "    final_prices = {\n",
    "        'LIGHT': tarifas_prices[0],\n",
    "        'PLUS': tarifas_prices[1],\n",
    "        'TOP': tarifas_prices[2],\n",
    "    }\n",
    "    \n",
    "    return final_prices"
   ]
  },
  {
   "cell_type": "code",
   "execution_count": 104,
   "metadata": {},
   "outputs": [
    {
     "data": {
      "text/plain": [
       "{'LIGHT': 'US$1154,00', 'PLUS': 'US$1207,50', 'TOP': 'US$1457,84'}"
      ]
     },
     "execution_count": 104,
     "metadata": {},
     "output_type": "execute_result"
    }
   ],
   "source": [
    "obtener_precios(vuelo)"
   ]
  },
  {
   "cell_type": "code",
   "execution_count": 107,
   "metadata": {},
   "outputs": [],
   "source": [
    "def obtener_datos_escalas(vuelo):\n",
    "    \"\"\"Función que retorna una lista de diccionarios con la información\n",
    "       de las escalas de cada vuelo\n",
    "    \"\"\"\n",
    "    \n",
    "    #Abrir modal\n",
    "    \n",
    "    boton_escalas = vuelo.find_element_by_xpath('.//div[@class=\"flight-summary-stops-description\"]//button')\n",
    "    boton_escalas.click()\n",
    "    \n",
    "    segments = vuelo.find_elements_by_xpath(\n",
    "        '//div[@class=\"segments-graph\"]/div[@class=\"segments-graph-segment\"]'\n",
    "    )\n",
    "    info_escalas = []\n",
    "    \n",
    "    for segment in segments:\n",
    "        \n",
    "        # Origen\n",
    "        origin = segment.find_element_by_xpath(\n",
    "            './/div[@class=\"departure\"]//span[@class=\"ground-point-name\"]'\n",
    "        ).text\n",
    "        \n",
    "        # Destino\n",
    "        destination= segment.find_element_by_xpath(\n",
    "            './/div[@class=\"arrival\"]//span[@class=\"ground-point-name\"]//abbr'\n",
    "        ).get_attribute('title')\n",
    "        \n",
    "        # Hora de salida\n",
    "        dep_time = segment.find_element_by_xpath(\n",
    "            './/div[@class=\"departure\"]//time'\n",
    "        ).get_attribute('datetime')\n",
    "        \n",
    "        # Hora de llegada\n",
    "        arr_time = segment.find_element_by_xpath(\n",
    "            './/div[@class=\"arrival\"]//time'\n",
    "        ).get_attribute('datetime')\n",
    "        \n",
    "        # Duración del vuelo\n",
    "        flight_duration = segment.find_element_by_xpath(\n",
    "            './/span[@class=\"duration flight-schedule-duration\"]//time'\n",
    "        ).get_attribute('datetime')\n",
    "        \n",
    "        # Número de vuelo\n",
    "        flight_number = segment.find_element_by_xpath(\n",
    "            './/span[@class=\"equipment-airline-number\"]'\n",
    "        ).text\n",
    "        \n",
    "        # Modelo del avión\n",
    "        plane_model = segment.find_element_by_xpath(\n",
    "            './/span[@class=\"equipment-airline-material\"]'\n",
    "        ).text\n",
    "        \n",
    "        if segment != segments[-1]:\n",
    "            # Delay de la escala\n",
    "            scale_delay = segment.find_element_by_xpath(\n",
    "                './/p[@class=\"stop-wait-time\"]//time'\n",
    "            ).get_attribute('datetime')\n",
    "        else:\n",
    "            # Delay de la escala\n",
    "            scale_delay = ''\n",
    "        \n",
    "        data_dict = {\n",
    "            'origin': origin,\n",
    "            'dep_time': dep_time,\n",
    "            'arr_time': arr_time,\n",
    "            'destination': destination,\n",
    "            'flight_duration': flight_duration,\n",
    "            'flight_number': flight_number,\n",
    "            'plane_model': plane_model,\n",
    "            'scale_delay': scale_delay,\n",
    "        }\n",
    "        \n",
    "        info_escalas.append(data_dict)\n",
    "    \n",
    "    # Cerrar modal \n",
    "    driver.find_element_by_xpath('//div[@class=\"modal-dialog\"]//button[@class=\"close\"]').click()\n",
    "    \n",
    "    return info_escalas"
   ]
  },
  {
   "cell_type": "code",
   "execution_count": 109,
   "metadata": {},
   "outputs": [
    {
     "data": {
      "text/plain": [
       "[{'origin': 'de\\nEZE',\n",
       "  'dep_time': '19:20',\n",
       "  'arr_time': '21:50',\n",
       "  'destination': 'Guarulhos Intl.',\n",
       "  'flight_duration': 'PT2H30M',\n",
       "  'flight_number': 'LA8002',\n",
       "  'plane_model': 'Airbus 320-200',\n",
       "  'scale_delay': 'PT1H25M'},\n",
       " {'origin': 'de\\nGRU',\n",
       "  'dep_time': '23:15',\n",
       "  'arr_time': '13:10',\n",
       "  'destination': 'Barajas Intl.',\n",
       "  'flight_duration': 'PT9H55M',\n",
       "  'flight_number': 'LA8064',\n",
       "  'plane_model': 'Airbus 350-900',\n",
       "  'scale_delay': ''}]"
      ]
     },
     "execution_count": 109,
     "metadata": {},
     "output_type": "execute_result"
    }
   ],
   "source": [
    "obtener_datos_escalas(vuelo)"
   ]
  },
  {
   "cell_type": "code",
   "execution_count": 117,
   "metadata": {},
   "outputs": [],
   "source": [
    "def obtener_tiempos(vuelo):\n",
    "    \"\"\"Función que a partir de un vuelo devuelve un diccionario con los tiempos\n",
    "       de cada viaje por escala\n",
    "    \"\"\"\n",
    "    \n",
    "    #Abrir modal\n",
    "    boton_escalas = vuelo.find_element_by_xpath('.//div[@class=\"flight-summary-stops-description\"]//button')\n",
    "    boton_escalas.click()\n",
    "    \n",
    "    segments = vuelo.find_elements_by_xpath(\n",
    "        '//div[@class=\"segments-graph\"]/div[@class=\"segments-graph-segment\"]'\n",
    "    )\n",
    "    \n",
    "    flights_durations = {}\n",
    "    \n",
    "    for i, segment in enumerate(segments):\n",
    "        duration = segment.find_element_by_xpath('.//span[@class=\"duration flight-schedule-duration\"]//time').get_attribute('datetime')\n",
    "        flights_durations[i] = duration\n",
    "    \n",
    "    return flights_durations\n",
    "\n",
    "    # Cerrar modal \n",
    "    vuelo.find_element_by_xpath('//div[@class=\"modal-dialog\"]//button[@class=\"close\"]').click()"
   ]
  },
  {
   "cell_type": "code",
   "execution_count": 15,
   "metadata": {},
   "outputs": [
    {
     "name": "stdout",
     "output_type": "stream",
     "text": [
      "chromedriver.exe\n",
      "Notas_Pagina12.csv\n",
      "web_scraping_01_bs4_and_requests.ipynb\n",
      "web_scraping_02_selenium.ipynb\n"
     ]
    }
   ],
   "source": [
    "!ls"
   ]
  },
  {
   "cell_type": "code",
   "execution_count": 116,
   "metadata": {},
   "outputs": [
    {
     "data": {
      "text/plain": [
       "{0: 'PT2H30M', 1: 'PT9H55M'}"
      ]
     },
     "execution_count": 116,
     "metadata": {},
     "output_type": "execute_result"
    }
   ],
   "source": [
    "obtener_tiempos(vuelo)"
   ]
  },
  {
   "cell_type": "code",
   "execution_count": 127,
   "metadata": {},
   "outputs": [],
   "source": [
    "import time"
   ]
  },
  {
   "cell_type": "code",
   "execution_count": 173,
   "metadata": {},
   "outputs": [],
   "source": [
    "def obtener_info(driver):\n",
    "    vuelos = driver.find_elements_by_xpath('//li[@class=\"flight\"]')\n",
    "    print(f'Se encontraron {len(vuelos)} vuelos')\n",
    "    print('Iniciando scraping...')\n",
    "    info = []\n",
    "    for i, vuelo in enumerate(vuelos):\n",
    "        \n",
    "        print('Obteniendo datos del vuelo', i+1)\n",
    "             \n",
    "        # Abrir modal\n",
    "        boton_escalas = vuelo.find_element_by_xpath('.//div[@class=\"flight-summary-stops-description\"]//button')\n",
    "        boton_escalas.click()\n",
    "        \n",
    "        # Obtenemos los tiempos generales de cada vuelo\n",
    "        tiempos = obtener_tiempos(vuelo)\n",
    "                            \n",
    "        # Obtener datos de las escalas\n",
    "        escalas = obtener_datos_escalas(vuelo)\n",
    "        \n",
    "        # Cerrar modal \n",
    "        boton_cerrar = vuelo.find_element_by_xpath('//div[@class=\"modal-dialog\"]//button[@class=\"close\"]')\n",
    "        boton_cerrar.click()\n",
    "        \n",
    "        # Clickeamos sobre el vuelo para ver los precios\n",
    "        vuelo.click()\n",
    "        precios = obtener_precios(vuelo)\n",
    "            \n",
    "        # Clickeamos nuevamente sobre el vuelo para cerrar la info\n",
    "        vuelo.click()\n",
    "                \n",
    "        info.append({\n",
    "            'precios': precios,\n",
    "            'tiempos': tiempos,\n",
    "            'escalas': escalas\n",
    "        })\n",
    "    return info"
   ]
  },
  {
   "cell_type": "code",
   "execution_count": 174,
   "metadata": {},
   "outputs": [
    {
     "name": "stdout",
     "output_type": "stream",
     "text": [
      "Se encontraron 8 vuelos\n",
      "Iniciando scraping...\n",
      "Obteniendo datos del vuelo 1\n",
      "Error: Message: element click intercepted: Element <button type=\"button\" aria-haspopup=\"true\" class=\"sc-bdVaJa fuucJY\">...</button> is not clickable at point (36, 313). Other element would receive the click: <div class=\"segments-graph-segment\">...</div>\n",
      "  (Session info: chrome=78.0.3904.108)\n",
      "\n"
     ]
    },
    {
     "ename": "ElementClickInterceptedException",
     "evalue": "Message: element click intercepted: Element <button type=\"button\" aria-haspopup=\"true\" class=\"sc-bdVaJa fuucJY\">...</button> is not clickable at point (36, 313). Other element would receive the click: <div class=\"segments-graph-segment\">...</div>\n  (Session info: chrome=78.0.3904.108)\n",
     "output_type": "error",
     "traceback": [
      "\u001b[1;31m-----------------------------------------------------------------------\u001b[0m",
      "\u001b[1;31mElementClickInterceptedException\u001b[0m      Traceback (most recent call last)",
      "\u001b[1;32m<ipython-input-174-e6576e35eb7b>\u001b[0m in \u001b[0;36m<module>\u001b[1;34m\u001b[0m\n\u001b[1;32m----> 1\u001b[1;33m \u001b[0mobtener_info\u001b[0m\u001b[1;33m(\u001b[0m\u001b[0mdriver\u001b[0m\u001b[1;33m)\u001b[0m\u001b[1;33m\u001b[0m\u001b[1;33m\u001b[0m\u001b[0m\n\u001b[0m",
      "\u001b[1;32m<ipython-input-173-f3c6196125c3>\u001b[0m in \u001b[0;36mobtener_info\u001b[1;34m(driver)\u001b[0m\n\u001b[0;32m     16\u001b[0m \u001b[1;33m\u001b[0m\u001b[0m\n\u001b[0;32m     17\u001b[0m         \u001b[1;31m# Obtenemos los tiempos generales de cada vuelo\u001b[0m\u001b[1;33m\u001b[0m\u001b[1;33m\u001b[0m\u001b[1;33m\u001b[0m\u001b[0m\n\u001b[1;32m---> 18\u001b[1;33m         \u001b[0mtiempos\u001b[0m \u001b[1;33m=\u001b[0m \u001b[0mobtener_tiempos\u001b[0m\u001b[1;33m(\u001b[0m\u001b[0mvuelo\u001b[0m\u001b[1;33m)\u001b[0m\u001b[1;33m\u001b[0m\u001b[1;33m\u001b[0m\u001b[0m\n\u001b[0m\u001b[0;32m     19\u001b[0m \u001b[1;33m\u001b[0m\u001b[0m\n\u001b[0;32m     20\u001b[0m         \u001b[1;31m# Obtener datos de las escalas\u001b[0m\u001b[1;33m\u001b[0m\u001b[1;33m\u001b[0m\u001b[1;33m\u001b[0m\u001b[0m\n",
      "\u001b[1;32m<ipython-input-117-d0dc10db4368>\u001b[0m in \u001b[0;36mobtener_tiempos\u001b[1;34m(vuelo)\u001b[0m\n\u001b[0;32m      6\u001b[0m     \u001b[1;31m#Abrir modal\u001b[0m\u001b[1;33m\u001b[0m\u001b[1;33m\u001b[0m\u001b[1;33m\u001b[0m\u001b[0m\n\u001b[0;32m      7\u001b[0m     \u001b[0mboton_escalas\u001b[0m \u001b[1;33m=\u001b[0m \u001b[0mvuelo\u001b[0m\u001b[1;33m.\u001b[0m\u001b[0mfind_element_by_xpath\u001b[0m\u001b[1;33m(\u001b[0m\u001b[1;34m'.//div[@class=\"flight-summary-stops-description\"]//button'\u001b[0m\u001b[1;33m)\u001b[0m\u001b[1;33m\u001b[0m\u001b[1;33m\u001b[0m\u001b[0m\n\u001b[1;32m----> 8\u001b[1;33m     \u001b[0mboton_escalas\u001b[0m\u001b[1;33m.\u001b[0m\u001b[0mclick\u001b[0m\u001b[1;33m(\u001b[0m\u001b[1;33m)\u001b[0m\u001b[1;33m\u001b[0m\u001b[1;33m\u001b[0m\u001b[0m\n\u001b[0m\u001b[0;32m      9\u001b[0m \u001b[1;33m\u001b[0m\u001b[0m\n\u001b[0;32m     10\u001b[0m     segments = vuelo.find_elements_by_xpath(\n",
      "\u001b[1;32mc:\\program files (x86)\\python37-32\\lib\\site-packages\\selenium\\webdriver\\remote\\webelement.py\u001b[0m in \u001b[0;36mclick\u001b[1;34m(self)\u001b[0m\n\u001b[0;32m     78\u001b[0m     \u001b[1;32mdef\u001b[0m \u001b[0mclick\u001b[0m\u001b[1;33m(\u001b[0m\u001b[0mself\u001b[0m\u001b[1;33m)\u001b[0m\u001b[1;33m:\u001b[0m\u001b[1;33m\u001b[0m\u001b[1;33m\u001b[0m\u001b[0m\n\u001b[0;32m     79\u001b[0m         \u001b[1;34m\"\"\"Clicks the element.\"\"\"\u001b[0m\u001b[1;33m\u001b[0m\u001b[1;33m\u001b[0m\u001b[0m\n\u001b[1;32m---> 80\u001b[1;33m         \u001b[0mself\u001b[0m\u001b[1;33m.\u001b[0m\u001b[0m_execute\u001b[0m\u001b[1;33m(\u001b[0m\u001b[0mCommand\u001b[0m\u001b[1;33m.\u001b[0m\u001b[0mCLICK_ELEMENT\u001b[0m\u001b[1;33m)\u001b[0m\u001b[1;33m\u001b[0m\u001b[1;33m\u001b[0m\u001b[0m\n\u001b[0m\u001b[0;32m     81\u001b[0m \u001b[1;33m\u001b[0m\u001b[0m\n\u001b[0;32m     82\u001b[0m     \u001b[1;32mdef\u001b[0m \u001b[0msubmit\u001b[0m\u001b[1;33m(\u001b[0m\u001b[0mself\u001b[0m\u001b[1;33m)\u001b[0m\u001b[1;33m:\u001b[0m\u001b[1;33m\u001b[0m\u001b[1;33m\u001b[0m\u001b[0m\n",
      "\u001b[1;32mc:\\program files (x86)\\python37-32\\lib\\site-packages\\selenium\\webdriver\\remote\\webelement.py\u001b[0m in \u001b[0;36m_execute\u001b[1;34m(self, command, params)\u001b[0m\n\u001b[0;32m    631\u001b[0m             \u001b[0mparams\u001b[0m \u001b[1;33m=\u001b[0m \u001b[1;33m{\u001b[0m\u001b[1;33m}\u001b[0m\u001b[1;33m\u001b[0m\u001b[1;33m\u001b[0m\u001b[0m\n\u001b[0;32m    632\u001b[0m         \u001b[0mparams\u001b[0m\u001b[1;33m[\u001b[0m\u001b[1;34m'id'\u001b[0m\u001b[1;33m]\u001b[0m \u001b[1;33m=\u001b[0m \u001b[0mself\u001b[0m\u001b[1;33m.\u001b[0m\u001b[0m_id\u001b[0m\u001b[1;33m\u001b[0m\u001b[1;33m\u001b[0m\u001b[0m\n\u001b[1;32m--> 633\u001b[1;33m         \u001b[1;32mreturn\u001b[0m \u001b[0mself\u001b[0m\u001b[1;33m.\u001b[0m\u001b[0m_parent\u001b[0m\u001b[1;33m.\u001b[0m\u001b[0mexecute\u001b[0m\u001b[1;33m(\u001b[0m\u001b[0mcommand\u001b[0m\u001b[1;33m,\u001b[0m \u001b[0mparams\u001b[0m\u001b[1;33m)\u001b[0m\u001b[1;33m\u001b[0m\u001b[1;33m\u001b[0m\u001b[0m\n\u001b[0m\u001b[0;32m    634\u001b[0m \u001b[1;33m\u001b[0m\u001b[0m\n\u001b[0;32m    635\u001b[0m     \u001b[1;32mdef\u001b[0m \u001b[0mfind_element\u001b[0m\u001b[1;33m(\u001b[0m\u001b[0mself\u001b[0m\u001b[1;33m,\u001b[0m \u001b[0mby\u001b[0m\u001b[1;33m=\u001b[0m\u001b[0mBy\u001b[0m\u001b[1;33m.\u001b[0m\u001b[0mID\u001b[0m\u001b[1;33m,\u001b[0m \u001b[0mvalue\u001b[0m\u001b[1;33m=\u001b[0m\u001b[1;32mNone\u001b[0m\u001b[1;33m)\u001b[0m\u001b[1;33m:\u001b[0m\u001b[1;33m\u001b[0m\u001b[1;33m\u001b[0m\u001b[0m\n",
      "\u001b[1;32mc:\\program files (x86)\\python37-32\\lib\\site-packages\\selenium\\webdriver\\remote\\webdriver.py\u001b[0m in \u001b[0;36mexecute\u001b[1;34m(self, driver_command, params)\u001b[0m\n\u001b[0;32m    319\u001b[0m         \u001b[0mresponse\u001b[0m \u001b[1;33m=\u001b[0m \u001b[0mself\u001b[0m\u001b[1;33m.\u001b[0m\u001b[0mcommand_executor\u001b[0m\u001b[1;33m.\u001b[0m\u001b[0mexecute\u001b[0m\u001b[1;33m(\u001b[0m\u001b[0mdriver_command\u001b[0m\u001b[1;33m,\u001b[0m \u001b[0mparams\u001b[0m\u001b[1;33m)\u001b[0m\u001b[1;33m\u001b[0m\u001b[1;33m\u001b[0m\u001b[0m\n\u001b[0;32m    320\u001b[0m         \u001b[1;32mif\u001b[0m \u001b[0mresponse\u001b[0m\u001b[1;33m:\u001b[0m\u001b[1;33m\u001b[0m\u001b[1;33m\u001b[0m\u001b[0m\n\u001b[1;32m--> 321\u001b[1;33m             \u001b[0mself\u001b[0m\u001b[1;33m.\u001b[0m\u001b[0merror_handler\u001b[0m\u001b[1;33m.\u001b[0m\u001b[0mcheck_response\u001b[0m\u001b[1;33m(\u001b[0m\u001b[0mresponse\u001b[0m\u001b[1;33m)\u001b[0m\u001b[1;33m\u001b[0m\u001b[1;33m\u001b[0m\u001b[0m\n\u001b[0m\u001b[0;32m    322\u001b[0m             response['value'] = self._unwrap_value(\n\u001b[0;32m    323\u001b[0m                 response.get('value', None))\n",
      "\u001b[1;32mc:\\program files (x86)\\python37-32\\lib\\site-packages\\selenium\\webdriver\\remote\\errorhandler.py\u001b[0m in \u001b[0;36mcheck_response\u001b[1;34m(self, response)\u001b[0m\n\u001b[0;32m    240\u001b[0m                 \u001b[0malert_text\u001b[0m \u001b[1;33m=\u001b[0m \u001b[0mvalue\u001b[0m\u001b[1;33m[\u001b[0m\u001b[1;34m'alert'\u001b[0m\u001b[1;33m]\u001b[0m\u001b[1;33m.\u001b[0m\u001b[0mget\u001b[0m\u001b[1;33m(\u001b[0m\u001b[1;34m'text'\u001b[0m\u001b[1;33m)\u001b[0m\u001b[1;33m\u001b[0m\u001b[1;33m\u001b[0m\u001b[0m\n\u001b[0;32m    241\u001b[0m             \u001b[1;32mraise\u001b[0m \u001b[0mexception_class\u001b[0m\u001b[1;33m(\u001b[0m\u001b[0mmessage\u001b[0m\u001b[1;33m,\u001b[0m \u001b[0mscreen\u001b[0m\u001b[1;33m,\u001b[0m \u001b[0mstacktrace\u001b[0m\u001b[1;33m,\u001b[0m \u001b[0malert_text\u001b[0m\u001b[1;33m)\u001b[0m\u001b[1;33m\u001b[0m\u001b[1;33m\u001b[0m\u001b[0m\n\u001b[1;32m--> 242\u001b[1;33m         \u001b[1;32mraise\u001b[0m \u001b[0mexception_class\u001b[0m\u001b[1;33m(\u001b[0m\u001b[0mmessage\u001b[0m\u001b[1;33m,\u001b[0m \u001b[0mscreen\u001b[0m\u001b[1;33m,\u001b[0m \u001b[0mstacktrace\u001b[0m\u001b[1;33m)\u001b[0m\u001b[1;33m\u001b[0m\u001b[1;33m\u001b[0m\u001b[0m\n\u001b[0m\u001b[0;32m    243\u001b[0m \u001b[1;33m\u001b[0m\u001b[0m\n\u001b[0;32m    244\u001b[0m     \u001b[1;32mdef\u001b[0m \u001b[0m_value_or_default\u001b[0m\u001b[1;33m(\u001b[0m\u001b[0mself\u001b[0m\u001b[1;33m,\u001b[0m \u001b[0mobj\u001b[0m\u001b[1;33m,\u001b[0m \u001b[0mkey\u001b[0m\u001b[1;33m,\u001b[0m \u001b[0mdefault\u001b[0m\u001b[1;33m)\u001b[0m\u001b[1;33m:\u001b[0m\u001b[1;33m\u001b[0m\u001b[1;33m\u001b[0m\u001b[0m\n",
      "\u001b[1;31mElementClickInterceptedException\u001b[0m: Message: element click intercepted: Element <button type=\"button\" aria-haspopup=\"true\" class=\"sc-bdVaJa fuucJY\">...</button> is not clickable at point (36, 313). Other element would receive the click: <div class=\"segments-graph-segment\">...</div>\n  (Session info: chrome=78.0.3904.108)\n"
     ]
    }
   ],
   "source": [
    "obtener_info(driver)"
   ]
  },
  {
   "cell_type": "code",
   "execution_count": 21,
   "metadata": {},
   "outputs": [],
   "source": [
    "# Cerrar el navegador\n",
    "driver.close()"
   ]
  }
 ],
 "metadata": {
  "kernelspec": {
   "display_name": "Python 3",
   "language": "python",
   "name": "python3"
  },
  "language_info": {
   "codemirror_mode": {
    "name": "ipython",
    "version": 3
   },
   "file_extension": ".py",
   "mimetype": "text/x-python",
   "name": "python",
   "nbconvert_exporter": "python",
   "pygments_lexer": "ipython3",
   "version": "3.7.4"
  }
 },
 "nbformat": 4,
 "nbformat_minor": 2
}
